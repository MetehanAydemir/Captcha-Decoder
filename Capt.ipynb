{
 "cells": [
  {
   "cell_type": "code",
   "execution_count": 3,
   "id": "bdec95c0",
   "metadata": {},
   "outputs": [],
   "source": [
    "\n",
    "import cvlib    # high level module, uses YOLO model with the find_common_objects method\n",
    "import cv2      # image/video manipulation, allows us to pass frames to cvlib\n",
    "from argparse import ArgumentParser\n",
    "import os\n",
    "import sys\n",
    "from datetime import datetime\n",
    "from twilio.rest import Client  # used for texting if you'd like, flag is optional\n",
    "import smtplib, ssl # for sending email alerts\n",
    "from email.message import EmailMessage\n",
    "import imghdr\n",
    "\n"
   ]
  },
  {
   "cell_type": "code",
   "execution_count": 12,
   "id": "436cabf4",
   "metadata": {},
   "outputs": [
    {
     "name": "stdout",
     "output_type": "stream",
     "text": [
      "{'x': 123, 'y': 675} {'height': 86, 'width': 180}\n"
     ]
    }
   ],
   "source": [
    "from PIL import Image\n",
    "from selenium import webdriver\n",
    "url = 'https://ivd.gib.gov.tr/tvd_side/main.jsp?token=d1078f5e3dc646b78d5d4e5842f21e97feb48d366bc7617458b6679dec12675154a01fccc42292bb04d926bc259dbc75e39dd8e202535fd70a7098396c74a6f7'\n",
    "\n",
    "def get_captcha(driver, element, path):\n",
    "    # now that we have the preliminary stuff out of the way time to get that image :D\n",
    "    #location = element.location_once_scrolled_into_view\n",
    "    location = element.location\n",
    "    size = element.size\n",
    "    # saves screenshot of entire page\n",
    "    driver.switch_to.frame(driver.find_element(\"id\",\"gen__1062\"))\n",
    "    driver.save_screenshot(path)\n",
    "\n",
    "    # uses PIL library to open image in memory\n",
    "    image = Image.open(path)\n",
    "\n",
    "    left = location['x']\n",
    "    top = location['y']\n",
    "    right = location['x'] + size['width']\n",
    "    bottom = location['y'] + size['height']\n",
    "\n",
    "    image = image.crop((left, top, right, bottom))  # defines crop points\n",
    "    image.save(path, 'png')  # saves new cropped image\n",
    "\n",
    "\n",
    "chromedriver = chromedriver_autoinstaller.install()\n",
    "driver = webdriver.Chrome(chromedriver)\n",
    "\n",
    "\n",
    "driver.get(url)\n",
    "time.sleep(3)\n",
    "# download image/captcha\n",
    "img = driver.find_element(\"id\",\"gen__1062\")\n",
    "\n",
    "print(img.location,img.size)\n",
    "get_captcha(driver, img, \"captcha.png\")"
   ]
  },
  {
   "cell_type": "code",
   "execution_count": 10,
   "id": "f906a0e5",
   "metadata": {
    "scrolled": true
   },
   "outputs": [
    {
     "ename": "error",
     "evalue": "OpenCV(4.6.0) /Users/runner/work/opencv-python/opencv-python/opencv/modules/highgui/src/window.cpp:967: error: (-215:Assertion failed) size.width>0 && size.height>0 in function 'imshow'\n",
     "output_type": "error",
     "traceback": [
      "\u001b[0;31m---------------------------------------------------------------------------\u001b[0m",
      "\u001b[0;31merror\u001b[0m                                     Traceback (most recent call last)",
      "\u001b[0;32m<ipython-input-10-dfada9b0ee73>\u001b[0m in \u001b[0;36m<module>\u001b[0;34m\u001b[0m\n\u001b[1;32m     15\u001b[0m \u001b[0;34m\u001b[0m\u001b[0m\n\u001b[1;32m     16\u001b[0m     \u001b[0;31m# show frame to user\u001b[0m\u001b[0;34m\u001b[0m\u001b[0;34m\u001b[0m\u001b[0;34m\u001b[0m\u001b[0m\n\u001b[0;32m---> 17\u001b[0;31m      \u001b[0mcv2\u001b[0m\u001b[0;34m.\u001b[0m\u001b[0mimshow\u001b[0m\u001b[0;34m(\u001b[0m\u001b[0;34m'frame'\u001b[0m\u001b[0;34m,\u001b[0m \u001b[0mframe\u001b[0m\u001b[0;34m)\u001b[0m\u001b[0;34m\u001b[0m\u001b[0;34m\u001b[0m\u001b[0m\n\u001b[0m\u001b[1;32m     18\u001b[0m \u001b[0;34m\u001b[0m\u001b[0m\n\u001b[1;32m     19\u001b[0m     \u001b[0;31m# if user presses q quit program\u001b[0m\u001b[0;34m\u001b[0m\u001b[0;34m\u001b[0m\u001b[0;34m\u001b[0m\u001b[0m\n",
      "\u001b[0;31merror\u001b[0m: OpenCV(4.6.0) /Users/runner/work/opencv-python/opencv-python/opencv/modules/highgui/src/window.cpp:967: error: (-215:Assertion failed) size.width>0 && size.height>0 in function 'imshow'\n"
     ]
    }
   ],
   "source": [
    "from selenium import webdriver\n",
    "import chromedriver_autoinstaller\n",
    "from selenium.webdriver.common.by import By\n",
    "import time\n",
    "from PIL import Image\n",
    "\n",
    "url = \"https://player.tvkur.com/11bdfa23-b2fd-4d47-bb53-bf9a8e66adfd\"\n",
    "\n",
    "# open the feed\n",
    "cap = cv2.VideoCapture(url)\n",
    "\n",
    "while True:\n",
    "    # read next frame\n",
    "     ret, frame = cap.read()\n",
    "    \n",
    "    # show frame to user\n",
    "     cv2.imshow('frame', frame)\n",
    "    \n",
    "    # if user presses q quit program\n",
    "     if cv2.waitKey(1) & 0xFF == ord(\"q\"):\n",
    "        break\n",
    "\n",
    "# close the connection and close all windows\n",
    "cap.release()\n",
    "cv2.destroyAllWindows()"
   ]
  }
 ],
 "metadata": {
  "kernelspec": {
   "display_name": "Python 3",
   "language": "python",
   "name": "python3"
  },
  "language_info": {
   "codemirror_mode": {
    "name": "ipython",
    "version": 3
   },
   "file_extension": ".py",
   "mimetype": "text/x-python",
   "name": "python",
   "nbconvert_exporter": "python",
   "pygments_lexer": "ipython3",
   "version": "3.6.12"
  }
 },
 "nbformat": 4,
 "nbformat_minor": 5
}
