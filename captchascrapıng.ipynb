{
 "cells": [
  {
   "cell_type": "code",
   "execution_count": 1,
   "id": "3513e52a",
   "metadata": {},
   "outputs": [],
   "source": [
    "import requests\n",
    "from bs4 import BeautifulSoup as BS\n",
    "from selenium import webdriver\n",
    "import chromedriver_autoinstaller\n",
    "from selenium.webdriver.common.by import By\n",
    "import time\n",
    "from PIL import Image"
   ]
  },
  {
   "cell_type": "code",
   "execution_count": 2,
   "id": "c1ed63e6",
   "metadata": {},
   "outputs": [],
   "source": [
    "url = 'https://ivd.gib.gov.tr/tvd_side/main.jsp?token=d1078f5e3dc646b78d5d4e5842f21e97feb48d366bc7617458b6679dec12675154a01fccc42292bb04d926bc259dbc75e39dd8e202535fd70a7098396c74a6f7'\n",
    "url2='https://tr.wikipedia.org/wiki/Anasayfa'\n",
    "\n",
    "url3 = 'https://rejestradwokatow.pl/adwokat/abramowicz-joanna-49486'\n",
    "url4 = 'https://www.google.com/'"
   ]
  },
  {
   "cell_type": "code",
   "execution_count": 31,
   "id": "938f949a",
   "metadata": {
    "scrolled": true
   },
   "outputs": [
    {
     "name": "stderr",
     "output_type": "stream",
     "text": [
      "C:\\Users\\Admin\\AppData\\Local\\Temp\\ipykernel_20376\\4097907137.py:26: DeprecationWarning: executable_path has been deprecated, please pass in a Service object\n",
      "  driver = webdriver.Chrome(chromedriver)\n"
     ]
    },
    {
     "name": "stdout",
     "output_type": "stream",
     "text": [
      "{'x': 66, 'y': 677} {'height': 86, 'width': 180}\n"
     ]
    }
   ],
   "source": [
    "from PIL import Image\n",
    "from selenium import webdriver\n",
    "\n",
    "def get_captcha(driver, element, path):\n",
    "    # now that we have the preliminary stuff out of the way time to get that image :D\n",
    "    #location = element.location_once_scrolled_into_view\n",
    "    location = element.location\n",
    "    size = element.size\n",
    "    # saves screenshot of entire page\n",
    "    driver.switch_to.frame(driver.find_element(\"id\",\"gen__1062\"))\n",
    "    driver.save_screenshot(path)\n",
    "\n",
    "    # uses PIL library to open image in memory\n",
    "    image = Image.open(path)\n",
    "\n",
    "    left = location['x']\n",
    "    top = location['y']\n",
    "    right = location['x'] + size['width']\n",
    "    bottom = location['y'] + size['height']\n",
    "\n",
    "    image = image.crop((left, top, right, bottom))  # defines crop points\n",
    "    image.save(path, 'png')  # saves new cropped image\n",
    "\n",
    "\n",
    "chromedriver = chromedriver_autoinstaller.install()\n",
    "driver = webdriver.Chrome(chromedriver)\n",
    "\n",
    "\n",
    "driver.get(url)\n",
    "time.sleep(3)\n",
    "# download image/captcha\n",
    "img = driver.find_element(\"id\",\"gen__1062\")\n",
    "\n",
    "print(img.location,img.size)\n",
    "get_captcha(driver, img, \"captcha.png\")"
   ]
  },
  {
   "cell_type": "code",
   "execution_count": 6,
   "id": "f6f906c3",
   "metadata": {
    "collapsed": true
   },
   "outputs": [
    {
     "name": "stderr",
     "output_type": "stream",
     "text": [
      "C:\\Users\\Admin\\AppData\\Local\\Temp\\ipykernel_20376\\2339131146.py:6: DeprecationWarning: executable_path has been deprecated, please pass in a Service object\n",
      "  driver = webdriver.Chrome(chromedriver)\n"
     ]
    },
    {
     "ename": "TimeoutException",
     "evalue": "Message: script timeout\n  (Session info: chrome=107.0.5304.89)\nStacktrace:\nBacktrace:\n\tOrdinal0 [0x008E8CE3+2067683]\n\tOrdinal0 [0x0087CBC1+1625025]\n\tOrdinal0 [0x0077B690+571024]\n\tOrdinal0 [0x007DC23A+967226]\n\tOrdinal0 [0x007C733C+881468]\n\tOrdinal0 [0x007DB576+963958]\n\tOrdinal0 [0x007C7156+880982]\n\tOrdinal0 [0x0079FF1D+720669]\n\tOrdinal0 [0x007A0F5F+724831]\n\tGetHandleVerifier [0x00B9F162+2771330]\n\tGetHandleVerifier [0x00B91145+2713957]\n\tGetHandleVerifier [0x0097CC0A+533546]\n\tGetHandleVerifier [0x0097B970+528784]\n\tOrdinal0 [0x00884F4C+1658700]\n\tOrdinal0 [0x008898B8+1677496]\n\tOrdinal0 [0x008899A5+1677733]\n\tOrdinal0 [0x00894CC4+1723588]\n\tBaseThreadInitThunk [0x76E9FEF9+25]\n\tRtlGetAppContainerNamedObjectPath [0x77167BBE+286]\n\tRtlGetAppContainerNamedObjectPath [0x77167B8E+238]\n",
     "output_type": "error",
     "traceback": [
      "\u001b[1;31m---------------------------------------------------------------------------\u001b[0m",
      "\u001b[1;31mTimeoutException\u001b[0m                          Traceback (most recent call last)",
      "Input \u001b[1;32mIn [6]\u001b[0m, in \u001b[0;36m<cell line: 15>\u001b[1;34m()\u001b[0m\n\u001b[0;32m     11\u001b[0m \u001b[38;5;66;03m# download image/captcha\u001b[39;00m\n\u001b[0;32m     12\u001b[0m img \u001b[38;5;241m=\u001b[39m driver\u001b[38;5;241m.\u001b[39mfind_element(\u001b[38;5;124m\"\u001b[39m\u001b[38;5;124mid\u001b[39m\u001b[38;5;124m\"\u001b[39m,\u001b[38;5;124m\"\u001b[39m\u001b[38;5;124mgen__1062\u001b[39m\u001b[38;5;124m\"\u001b[39m)\n\u001b[1;32m---> 15\u001b[0m img_captcha_base64 \u001b[38;5;241m=\u001b[39m \u001b[43mdriver\u001b[49m\u001b[38;5;241;43m.\u001b[39;49m\u001b[43mexecute_async_script\u001b[49m\u001b[43m(\u001b[49m\u001b[38;5;124;43m\"\"\"\u001b[39;49m\n\u001b[0;32m     16\u001b[0m \u001b[38;5;124;43m    var ele = arguments[0], callback = arguments[1];\u001b[39;49m\n\u001b[0;32m     17\u001b[0m \u001b[38;5;124;43m    ele.addEventListener(\u001b[39;49m\u001b[38;5;124;43m'\u001b[39;49m\u001b[38;5;124;43mload\u001b[39;49m\u001b[38;5;124;43m'\u001b[39;49m\u001b[38;5;124;43m, function fn()\u001b[39;49m\u001b[38;5;124;43m{\u001b[39;49m\n\u001b[0;32m     18\u001b[0m \u001b[38;5;124;43m      ele.removeEventListener(\u001b[39;49m\u001b[38;5;124;43m'\u001b[39;49m\u001b[38;5;124;43mload\u001b[39;49m\u001b[38;5;124;43m'\u001b[39;49m\u001b[38;5;124;43m, fn, false);\u001b[39;49m\n\u001b[0;32m     19\u001b[0m \u001b[38;5;124;43m      var cnv = document.createElement(\u001b[39;49m\u001b[38;5;124;43m'\u001b[39;49m\u001b[38;5;124;43mcanvas\u001b[39;49m\u001b[38;5;124;43m'\u001b[39;49m\u001b[38;5;124;43m);\u001b[39;49m\n\u001b[0;32m     20\u001b[0m \u001b[38;5;124;43m      cnv.width = this.width; cnv.height = this.height;\u001b[39;49m\n\u001b[0;32m     21\u001b[0m \u001b[38;5;124;43m      cnv.getContext(\u001b[39;49m\u001b[38;5;124;43m'\u001b[39;49m\u001b[38;5;124;43m2d\u001b[39;49m\u001b[38;5;124;43m'\u001b[39;49m\u001b[38;5;124;43m).drawImage(this, 0, 0);\u001b[39;49m\n\u001b[0;32m     22\u001b[0m \u001b[38;5;124;43m      callback(cnv.toDataURL(\u001b[39;49m\u001b[38;5;124;43m'\u001b[39;49m\u001b[38;5;124;43mimage/jpeg\u001b[39;49m\u001b[38;5;124;43m'\u001b[39;49m\u001b[38;5;124;43m).substring(22));\u001b[39;49m\n\u001b[0;32m     23\u001b[0m \u001b[38;5;124;43m    }, false);\u001b[39;49m\n\u001b[0;32m     24\u001b[0m \u001b[38;5;124;43m    ele.dispatchEvent(new Event(\u001b[39;49m\u001b[38;5;124;43m'\u001b[39;49m\u001b[38;5;124;43mload\u001b[39;49m\u001b[38;5;124;43m'\u001b[39;49m\u001b[38;5;124;43m));\u001b[39;49m\n\u001b[0;32m     25\u001b[0m \u001b[38;5;124;43m    \u001b[39;49m\u001b[38;5;124;43m\"\"\"\u001b[39;49m\u001b[43m,\u001b[49m\u001b[43m \u001b[49m\u001b[43mimg\u001b[49m\u001b[43m)\u001b[49m\n\u001b[0;32m     27\u001b[0m \u001b[38;5;66;03m# save the captcha to a file\u001b[39;00m\n\u001b[0;32m     28\u001b[0m \u001b[38;5;28;01mwith\u001b[39;00m \u001b[38;5;28mopen\u001b[39m(\u001b[38;5;124mr\u001b[39m\u001b[38;5;124m\"\u001b[39m\u001b[38;5;124mcaptcha.jpg\u001b[39m\u001b[38;5;124m\"\u001b[39m, \u001b[38;5;124m'\u001b[39m\u001b[38;5;124mwb\u001b[39m\u001b[38;5;124m'\u001b[39m) \u001b[38;5;28;01mas\u001b[39;00m f:\n",
      "File \u001b[1;32mC:\\ProgramData\\Anaconda3\\lib\\site-packages\\selenium\\webdriver\\remote\\webdriver.py:526\u001b[0m, in \u001b[0;36mWebDriver.execute_async_script\u001b[1;34m(self, script, *args)\u001b[0m\n\u001b[0;32m    523\u001b[0m converted_args \u001b[38;5;241m=\u001b[39m \u001b[38;5;28mlist\u001b[39m(args)\n\u001b[0;32m    524\u001b[0m command \u001b[38;5;241m=\u001b[39m Command\u001b[38;5;241m.\u001b[39mW3C_EXECUTE_SCRIPT_ASYNC\n\u001b[1;32m--> 526\u001b[0m \u001b[38;5;28;01mreturn\u001b[39;00m \u001b[38;5;28;43mself\u001b[39;49m\u001b[38;5;241;43m.\u001b[39;49m\u001b[43mexecute\u001b[49m\u001b[43m(\u001b[49m\u001b[43mcommand\u001b[49m\u001b[43m,\u001b[49m\u001b[43m \u001b[49m\u001b[43m{\u001b[49m\u001b[38;5;124;43m\"\u001b[39;49m\u001b[38;5;124;43mscript\u001b[39;49m\u001b[38;5;124;43m\"\u001b[39;49m\u001b[43m:\u001b[49m\u001b[43m \u001b[49m\u001b[43mscript\u001b[49m\u001b[43m,\u001b[49m\u001b[43m \u001b[49m\u001b[38;5;124;43m\"\u001b[39;49m\u001b[38;5;124;43margs\u001b[39;49m\u001b[38;5;124;43m\"\u001b[39;49m\u001b[43m:\u001b[49m\u001b[43m \u001b[49m\u001b[43mconverted_args\u001b[49m\u001b[43m}\u001b[49m\u001b[43m)\u001b[49m[\u001b[38;5;124m\"\u001b[39m\u001b[38;5;124mvalue\u001b[39m\u001b[38;5;124m\"\u001b[39m]\n",
      "File \u001b[1;32mC:\\ProgramData\\Anaconda3\\lib\\site-packages\\selenium\\webdriver\\remote\\webdriver.py:444\u001b[0m, in \u001b[0;36mWebDriver.execute\u001b[1;34m(self, driver_command, params)\u001b[0m\n\u001b[0;32m    442\u001b[0m response \u001b[38;5;241m=\u001b[39m \u001b[38;5;28mself\u001b[39m\u001b[38;5;241m.\u001b[39mcommand_executor\u001b[38;5;241m.\u001b[39mexecute(driver_command, params)\n\u001b[0;32m    443\u001b[0m \u001b[38;5;28;01mif\u001b[39;00m response:\n\u001b[1;32m--> 444\u001b[0m     \u001b[38;5;28;43mself\u001b[39;49m\u001b[38;5;241;43m.\u001b[39;49m\u001b[43merror_handler\u001b[49m\u001b[38;5;241;43m.\u001b[39;49m\u001b[43mcheck_response\u001b[49m\u001b[43m(\u001b[49m\u001b[43mresponse\u001b[49m\u001b[43m)\u001b[49m\n\u001b[0;32m    445\u001b[0m     response[\u001b[38;5;124m\"\u001b[39m\u001b[38;5;124mvalue\u001b[39m\u001b[38;5;124m\"\u001b[39m] \u001b[38;5;241m=\u001b[39m \u001b[38;5;28mself\u001b[39m\u001b[38;5;241m.\u001b[39m_unwrap_value(response\u001b[38;5;241m.\u001b[39mget(\u001b[38;5;124m\"\u001b[39m\u001b[38;5;124mvalue\u001b[39m\u001b[38;5;124m\"\u001b[39m, \u001b[38;5;28;01mNone\u001b[39;00m))\n\u001b[0;32m    446\u001b[0m     \u001b[38;5;28;01mreturn\u001b[39;00m response\n",
      "File \u001b[1;32mC:\\ProgramData\\Anaconda3\\lib\\site-packages\\selenium\\webdriver\\remote\\errorhandler.py:249\u001b[0m, in \u001b[0;36mErrorHandler.check_response\u001b[1;34m(self, response)\u001b[0m\n\u001b[0;32m    247\u001b[0m         alert_text \u001b[38;5;241m=\u001b[39m value[\u001b[38;5;124m\"\u001b[39m\u001b[38;5;124malert\u001b[39m\u001b[38;5;124m\"\u001b[39m]\u001b[38;5;241m.\u001b[39mget(\u001b[38;5;124m\"\u001b[39m\u001b[38;5;124mtext\u001b[39m\u001b[38;5;124m\"\u001b[39m)\n\u001b[0;32m    248\u001b[0m     \u001b[38;5;28;01mraise\u001b[39;00m exception_class(message, screen, stacktrace, alert_text)  \u001b[38;5;66;03m# type: ignore[call-arg]  # mypy is not smart enough here\u001b[39;00m\n\u001b[1;32m--> 249\u001b[0m \u001b[38;5;28;01mraise\u001b[39;00m exception_class(message, screen, stacktrace)\n",
      "\u001b[1;31mTimeoutException\u001b[0m: Message: script timeout\n  (Session info: chrome=107.0.5304.89)\nStacktrace:\nBacktrace:\n\tOrdinal0 [0x008E8CE3+2067683]\n\tOrdinal0 [0x0087CBC1+1625025]\n\tOrdinal0 [0x0077B690+571024]\n\tOrdinal0 [0x007DC23A+967226]\n\tOrdinal0 [0x007C733C+881468]\n\tOrdinal0 [0x007DB576+963958]\n\tOrdinal0 [0x007C7156+880982]\n\tOrdinal0 [0x0079FF1D+720669]\n\tOrdinal0 [0x007A0F5F+724831]\n\tGetHandleVerifier [0x00B9F162+2771330]\n\tGetHandleVerifier [0x00B91145+2713957]\n\tGetHandleVerifier [0x0097CC0A+533546]\n\tGetHandleVerifier [0x0097B970+528784]\n\tOrdinal0 [0x00884F4C+1658700]\n\tOrdinal0 [0x008898B8+1677496]\n\tOrdinal0 [0x008899A5+1677733]\n\tOrdinal0 [0x00894CC4+1723588]\n\tBaseThreadInitThunk [0x76E9FEF9+25]\n\tRtlGetAppContainerNamedObjectPath [0x77167BBE+286]\n\tRtlGetAppContainerNamedObjectPath [0x77167B8E+238]\n"
     ]
    }
   ],
   "source": [
    "from PIL import Image\n",
    "from selenium import webdriver\n",
    "\n",
    "\n",
    "chromedriver = chromedriver_autoinstaller.install()\n",
    "driver = webdriver.Chrome(chromedriver)\n",
    "\n",
    "\n",
    "driver.get(url)\n",
    "time.sleep(4)\n",
    "# download image/captcha\n",
    "img = driver.find_element(\"id\",\"gen__1062\")\n",
    "\n",
    "\n",
    "img_captcha_base64 = driver.execute_async_script(\"\"\"\n",
    "    var ele = arguments[0], callback = arguments[1];\n",
    "    ele.addEventListener('load', function fn(){\n",
    "      ele.removeEventListener('load', fn, false);\n",
    "      var cnv = document.createElement('canvas');\n",
    "      cnv.width = this.width; cnv.height = this.height;\n",
    "      cnv.getContext('2d').drawImage(this, 0, 0);\n",
    "      callback(cnv.toDataURL('image/jpeg').substring(22));\n",
    "    }, false);\n",
    "    ele.dispatchEvent(new Event('load'));\n",
    "    \"\"\", img)\n",
    "\n",
    "# save the captcha to a file\n",
    "with open(r\"captcha.jpg\", 'wb') as f:\n",
    "    f.write(base64.b64decode(img_captcha_base64))"
   ]
  },
  {
   "cell_type": "code",
   "execution_count": 28,
   "id": "d96e3c7c",
   "metadata": {},
   "outputs": [
    {
     "name": "stderr",
     "output_type": "stream",
     "text": [
      "/var/folders/sh/c3_dccq92_56w1sgd6hkjs0h0000gn/T/ipykernel_38306/640823378.py:10: DeprecationWarning: executable_path has been deprecated, please pass in a Service object\n",
      "  driver = webdriver.Chrome(chromedriver)\n"
     ]
    },
    {
     "name": "stdout",
     "output_type": "stream",
     "text": [
      "{'x': 123, 'y': 675}\n"
     ]
    }
   ],
   "source": [
    "from selenium import webdriver\n",
    "import chromedriver_autoinstaller\n",
    "from selenium.webdriver.common.by import By\n",
    "import urljoin\n",
    "import time\n",
    "\n",
    "\n",
    "\n",
    "chromedriver = chromedriver_autoinstaller.install()\n",
    "driver = webdriver.Chrome(chromedriver)\n",
    "driver.get(url)\n",
    "time.sleep(3)\n",
    "\n",
    "#email_text = driver.find_element(By.ID,\"gen__1062\").get_attribute(\"src\")\n",
    "captcha=driver.find_element(\"id\",\"gen__1062\")\n",
    "print(captcha.location)"
   ]
  },
  {
   "cell_type": "code",
   "execution_count": 51,
   "id": "a00e477d",
   "metadata": {},
   "outputs": [
    {
     "name": "stdout",
     "output_type": "stream",
     "text": [
      "Collecting urljoin\n",
      "  Downloading urljoin-1.0.0-py2.py3-none-any.whl (2.7 kB)\n",
      "Installing collected packages: urljoin\n",
      "Successfully installed urljoin-1.0.0\n",
      "\n",
      "\u001b[1m[\u001b[0m\u001b[34;49mnotice\u001b[0m\u001b[1;39;49m]\u001b[0m\u001b[39;49m A new release of pip available: \u001b[0m\u001b[31;49m22.1.2\u001b[0m\u001b[39;49m -> \u001b[0m\u001b[32;49m22.3.1\u001b[0m\n",
      "\u001b[1m[\u001b[0m\u001b[34;49mnotice\u001b[0m\u001b[1;39;49m]\u001b[0m\u001b[39;49m To update, run: \u001b[0m\u001b[32;49mpip install --upgrade pip\u001b[0m\n"
     ]
    }
   ],
   "source": [
    "!pip install urljoin"
   ]
  },
  {
   "cell_type": "code",
   "execution_count": 42,
   "id": "7db1d9f5",
   "metadata": {},
   "outputs": [
    {
     "name": "stderr",
     "output_type": "stream",
     "text": [
      "/var/folders/sh/c3_dccq92_56w1sgd6hkjs0h0000gn/T/ipykernel_23722/3301522466.py:6: DeprecationWarning: executable_path has been deprecated, please pass in a Service object\n",
      "  driver = webdriver.Chrome(chromedriver)\n"
     ]
    }
   ],
   "source": [
    "from selenium import webdriver\n",
    "import chromedriver_autoinstaller\n",
    "from selenium.webdriver.common.by import By\n",
    "chromedriver = chromedriver_autoinstaller.install()\n",
    "driver = webdriver.Chrome(chromedriver)\n",
    "driver.get(url4)\n",
    "time.sleep(3)\n",
    "email_text = driver.find_element(By.NAME,\"q\").send_keys(\"Selams\")\n",
    "email_text\n",
    "\n"
   ]
  },
  {
   "cell_type": "code",
   "execution_count": 2,
   "id": "b5717e5a",
   "metadata": {
    "scrolled": true
   },
   "outputs": [
    {
     "data": {
      "text/plain": [
       "'\\n\\n\\n\\n<!-- This page generated by SIDE Exporter -->\\n<!-- SIDE is a User Interface Development Environment on Cloud. -->\\n<!-- SIDE is designed and developed by Cybersoft. -->\\n<!-- For more information visit: http://www.cybersoft.com.tr -->\\n<!DOCTYPE html>\\n<html class=\"side-border-box\">\\n<head>\\n    <meta charset=\"utf-8\" />\\n    <meta http-equiv=\"X-UA-Compatible\" content=\"IE=Edge;chrome=1\" />\\n    <meta name=\"viewport\" content=\"width=device-width, initial-scale=1\">\\n\\n    <link rel=\"icon\" type=\"image/vnd.microsoft.icon\" href=\"/tvd_side/favicon.ico?v=1667486646920\">\\n\\n    <script type=\"text/javascript\">\\n        \\n        \\n        window.SideMasterDefinition = \"PG_TEMASSIZ_WELCOME\";\\n\\n        var sideLang = localStorage.getItem(\"side-lang\") || \"tr\";\\n        \\n                sideLang = \\'tr\\';\\n        \\n        var sideIsOpenBf = \"false\";\\n        var sideToken = \"d1078f5e3dc646b78d5d4e5842f21e97feb48d366bc7617458b6679dec12675154a01fccc42292bb04d926bc259dbc75e39dd8e202535fd70a7098396c74a6f7\";\\n        var sideTheme = \"adminTrend\";\\n    </script>\\n\\n    <script type=\"text/javascript\" src=\"js/3thParty/jquery/jquery-2.0.3.min.js\"></script>\\n\\n    <script type=\"text/javascript\" src=\"js/cs/wt-script-1.jsp?v=1667486646920\"></script>\\n\\n    <link rel=\"stylesheet\" type=\"text/css\" href=\"css/bc-style/side-bc.css?v=1667486646920\" media=\"all\">\\n<link id=\"side-theme\">\\n<link rel=\"stylesheet\" type=\"text/css\" href=\"css/themes/side/side.css?v=1667486646920\" media=\"all\">\\n<link id=\"side-module-theme-start\">\\n<link rel=\"stylesheet\" type=\"text/css\" href=\"css/themes/adminTrend/adminTrend.css?v=1667486646920\" media=\"all\">\\n<link id=\"side-module-theme-end\">\\n<link rel=\"stylesheet\" type=\"text/css\" href=\"side-project-tvp.css?v=1667486646920\" media=\"all\">\\n<link id=\"side-module-css-start\">\\n<link rel=\"stylesheet\" type=\"text/css\" href=\"side-module-tvd.css?v=1667486646920\" media=\"all\">\\n<link id=\"side-module-css-end\">\\n<link id=\"side-bf-css-start\">\\n<link id=\"side-bf-css-end\">\\n\\n    \\n\\n<script type=\"text/javascript\" src=\"js/cs/side-common.js?v=1667486646920\"></script>\\n<script type=\"text/javascript\" src=\"js/cs/side-bc.js?v=1667486646920\"></script>\\n<script type=\"text/javascript\" src=\"js/cs/lib_tvp.js?v=1667486646920\"></script>\\n<script type=\"text/javascript\" src=\"js/cs/lib_tvd.js?v=1667486646920\"></script>\\n\\n\\n    <script type=\"text/javascript\" src=\"js/cs/wt-script-2.jsp?v=1667486646920&lang=tr\"></script>\\n\\n    \\n\\n<script>NS_CSM_td=600168613;NS_CSM_pd=275116656;NS_CSM_u=\"/clm10\";NS_CSM_col=\"af_collector_logstream_10.251.1.155\";</script><script type=\"text/javascript\">function sendTimingInfoInit(){setTimeout(sendTimingInfo,0)}function sendTimingInfo(){var wp=window.performance;if(wp){var c1,c2,t;c1=wp.timing;if(c1){var cm={};cm.ns=c1.navigationStart;if((t=c1.unloadEventStart)>0)cm.us=t;if((t=c1.unloadEventEnd)>0)cm.ue=t;if((t=c1.redirectStart)>0)cm.rs=t;if((t=c1.redirectEnd)>0)cm.re=t;cm.fs=c1.fetchStart;cm.dls=c1.domainLookupStart;cm.dle=c1.domainLookupEnd;cm.cs=c1.connectStart;cm.ce=c1.connectEnd;if((t=c1.secureConnectionStart)>0)cm.scs=t;cm.rqs=c1.requestStart;cm.rss=c1.responseStart;cm.rse=c1.responseEnd;cm.dl=c1.domLoading;cm.di=c1.domInteractive;cm.dcls=c1.domContentLoadedEventStart;cm.dcle=c1.domContentLoadedEventEnd;cm.dc=c1.domComplete;if((t=c1.loadEventStart)>0)cm.ls=t;if((t=c1.loadEventEnd)>0)cm.le=t;cm.tid=NS_CSM_td;cm.pid=NS_CSM_pd;cm.ac=NS_CSM_col;var xhttp=new XMLHttpRequest();if(xhttp){var JSON=JSON||{};JSON.stringify=JSON.stringify||function(ob){var t=typeof(ob);if(t!=\"object\"||ob===null){if(t==\"string\")ob=\\'\"\\'+ob+\\'\"\\';return String(ob);}else{var n,v,json=[],arr=(ob&&ob.constructor==Array);for(n in ob){v=ob[n];t=typeof(v);if(t==\"string\")v=\\'\"\\'+v+\\'\"\\';else if(t==\"object\"&&v!==null)v=JSON.stringify(v);json.push((arr?\"\":\\'\"\\'+n+\\'\":\\')+String(v));}return(arr?\"[\":\"{\")+String(json)+(arr?\"]\":\"}\");}};xhttp.open(\"POST\",NS_CSM_u,true);xhttp.send(JSON.stringify(cm));}}}}if(window.addEventListener)window.addEventListener(\"load\",sendTimingInfoInit,false);else if(window.attachEvent)window.attachEvent(\"onload\",sendTimingInfoInit);else window.onload=sendTimingInfoInit;</script></head>\\n<body id=\"runtime-body\" class=\"side-body tvd-css\" onload=\"initSide()\">\\n    <div id=\"runtime-main\" class=\"adminTrend project-css adminTrend-css\"></div>\\n    <div id=\"side-progress-msg-div\"></div>\\n</body>\\n</html>'"
      ]
     },
     "execution_count": 2,
     "metadata": {},
     "output_type": "execute_result"
    }
   ],
   "source": [
    "url = 'https://ivd.gib.gov.tr/tvd_side/main.jsp?token=d1078f5e3dc646b78d5d4e5842f21e97feb48d366bc7617458b6679dec12675154a01fccc42292bb04d926bc259dbc75e39dd8e202535fd70a7098396c74a6f7'\n",
    "url2='https://tr.wikipedia.org/wiki/Anasayfa'\n",
    "\n",
    "r = requests.get(url)\n",
    "r.text\n",
    "#soup=BS(r.text,'html.parser')\n",
    "#soup"
   ]
  }
 ],
 "metadata": {
  "kernelspec": {
   "display_name": "Python 3 (ipykernel)",
   "language": "python",
   "name": "python3"
  },
  "language_info": {
   "codemirror_mode": {
    "name": "ipython",
    "version": 3
   },
   "file_extension": ".py",
   "mimetype": "text/x-python",
   "name": "python",
   "nbconvert_exporter": "python",
   "pygments_lexer": "ipython3",
   "version": "3.9.12"
  }
 },
 "nbformat": 4,
 "nbformat_minor": 5
}
